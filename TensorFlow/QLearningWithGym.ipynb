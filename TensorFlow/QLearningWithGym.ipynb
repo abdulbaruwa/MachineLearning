{
 "cells": [
  {
   "cell_type": "markdown",
   "metadata": {},
   "source": [
    "An attempt to build RL agent\n",
    "Using Q-Learning will attempt to learn value of given state and taking an action from said state.\n",
    "\n",
    "I shall use the OpenAI's FrozenLake environment. The FrozenLake is made of 4 by 4 grid. \n",
    "A cell can be either of \n",
    " [Start, Goal, Safe-Frozen, Dangerous]\n",
    "Goal:\n",
    "     Learn how to navigate to the goal from the start without falling into a hole.\n",
    "     Agent can choose to go, left, right, up or down.\n",
    "     The agent can also be affected by the occasional wind that blows the agent into another cell.\n",
    "     "
   ]
  }
 ],
 "metadata": {
  "kernelspec": {
   "display_name": "Python 3",
   "language": "python",
   "name": "python3"
  },
  "language_info": {
   "codemirror_mode": {
    "name": "ipython",
    "version": 3
   },
   "file_extension": ".py",
   "mimetype": "text/x-python",
   "name": "python",
   "nbconvert_exporter": "python",
   "pygments_lexer": "ipython3",
   "version": "3.6.1"
  }
 },
 "nbformat": 4,
 "nbformat_minor": 2
}
