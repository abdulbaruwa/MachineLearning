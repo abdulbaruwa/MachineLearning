{
 "cells": [
  {
   "cell_type": "markdown",
   "metadata": {},
   "source": [
    "Q-Learning with Neural Networks\n",
    "Table-based Q-learning cannot scale. So need way to take description of state and produce Q-values for actions without using tables.\n",
    "\n",
    "We can use neural network as function approximator. Taking a any number of possible states and represent them as a vector that we can learn to map to Q-values\n",
    "\n",
    "Frozen Lake problem\n",
    "Encode state in a one-hot vector (1x16)\n",
    "Produce a vector of 4 Q-values one for each action. This will act like a table, with network weights serving as cells. \n",
    "Easier to expand a Tensorflow network though. To update the network we use backpropagation and loss function (like sum-of-square loss where the difference between the current predicted Q-values, and the 'target' value is computed and the gradients passed throughh the network.). \n",
    "\n",
    "Q-target for chosen action is equivalent to the Q-value computed by the following equation.\n",
    "Loss = ∑(Q-target - Q)²\n"
   ]
  },
  {
   "cell_type": "code",
   "execution_count": 1,
   "metadata": {
    "collapsed": true
   },
   "outputs": [],
   "source": [
    "import gym\n",
    "import numpy as np\n",
    "import random \n",
    "import tensorflow as tf\n",
    "import matplotlib.pyplot as plt\n",
    "%matplotlib inline\n",
    "\n"
   ]
  },
  {
   "cell_type": "code",
   "execution_count": 2,
   "metadata": {},
   "outputs": [
    {
     "name": "stderr",
     "output_type": "stream",
     "text": [
      "[2017-06-08 09:17:28,513] Making new env: FrozenLake-v0\n"
     ]
    }
   ],
   "source": [
    "# Load environment\n",
    "env = gym.make('FrozenLake-v0')"
   ]
  },
  {
   "cell_type": "markdown",
   "metadata": {},
   "source": [
    "### Q-Network\n",
    "#### Implementation"
   ]
  },
  {
   "cell_type": "code",
   "execution_count": 3,
   "metadata": {
    "collapsed": true
   },
   "outputs": [],
   "source": [
    "tf.reset_default_graph()"
   ]
  },
  {
   "cell_type": "code",
   "execution_count": 4,
   "metadata": {},
   "outputs": [],
   "source": [
    "inputs1 = tf.placeholder(shape=[1,16], dtype=tf.float32)\n",
    "W = tf.Variable(tf.random_uniform([16, 4], 0,0.01))\n",
    "Qout = tf.matmul(inputs1, W)\n",
    "predict = tf.argmax(Qout, 1)\n",
    "\n",
    "#Get the loss by taking sum of squares difference between the target and prediction Q values\n",
    "nextQ = tf.placeholder(shape=[1, 4], dtype=tf.float32)\n",
    "loss = tf.reduce_sum(tf.square(nextQ - Qout))\n",
    "trainer = tf.train.GradientDescentOptimizer(learning_rate=0.01)\n",
    "updateModel = trainer.minimize(loss)"
   ]
  },
  {
   "cell_type": "markdown",
   "metadata": {},
   "source": [
    "### Training\n"
   ]
  },
  {
   "cell_type": "code",
   "execution_count": 5,
   "metadata": {},
   "outputs": [],
   "source": [
    "# init = tf.initialize_all_variables()\n",
    "\n",
    "# # Set learning parameters\n",
    "# y = .99\n",
    "# e = 0.1\n",
    "# num_episodes = 2000\n",
    "# #create lists to contain total rewards and steps per episode\n",
    "# jList = []\n",
    "# rList = []\n",
    "# with tf.Session() as sess:\n",
    "#     sess.run(init)\n",
    "#     for i in range(num_episodes):\n",
    "#         #Reset environment and get first new observation\n",
    "#         s = env.reset()\n",
    "#         rAll = 0\n",
    "#         d = False\n",
    "#         j = 0\n",
    "#         #The Q-Network\n",
    "#         while j < 99:\n",
    "#             j+=1\n",
    "#             #Choose an action by greedily (with e chance of random action) from the Q-network\n",
    "#             a,allQ = sess.run([predict,Qout],feed_dict={inputs1:np.identity(16)[s:s+1]})\n",
    "#             if np.random.rand(1) < e:\n",
    "#                 a[0] = env.action_space.sample()\n",
    "#             #Get new state and reward from environment\n",
    "#             s1,r,d,_ = env.step(a[0])\n",
    "#             #Obtain the Q' values by feeding the new state through our network\n",
    "#             Q1 = sess.run(Qout,feed_dict={inputs1:np.identity(16)[s1:s1+1]})\n",
    "#             #Obtain maxQ' and set our target value for chosen action.\n",
    "#             maxQ1 = np.max(Q1)\n",
    "#             targetQ = allQ\n",
    "#             targetQ[0,a[0]] = r + y*maxQ1\n",
    "#             #Train our network using target and predicted Q values\n",
    "#             _,W1 = sess.run([updateModel,W],feed_dict={inputs1:np.identity(16)[s:s+1],nextQ:targetQ})\n",
    "#             rAll += r\n",
    "#             s = s1\n",
    "#             if d == True:\n",
    "#                 #Reduce chance of random action as we train the model.\n",
    "#                 e = 1./((i/50) + 10)\n",
    "#                 break\n",
    "#         jList.append(j)\n",
    "#         rList.append(rAll)\n",
    "# print('Percent of successful episodes: ', str(sum(rList)/num_episodes))"
   ]
  },
  {
   "cell_type": "code",
   "execution_count": 6,
   "metadata": {},
   "outputs": [
    {
     "name": "stdout",
     "output_type": "stream",
     "text": [
      "WARNING:tensorflow:From <ipython-input-6-2c7ec424f393>:1: initialize_all_variables (from tensorflow.python.ops.variables) is deprecated and will be removed after 2017-03-02.\n",
      "Instructions for updating:\n",
      "Use `tf.global_variables_initializer` instead.\n"
     ]
    },
    {
     "name": "stderr",
     "output_type": "stream",
     "text": [
      "[2017-06-08 09:17:28,696] From <ipython-input-6-2c7ec424f393>:1: initialize_all_variables (from tensorflow.python.ops.variables) is deprecated and will be removed after 2017-03-02.\n",
      "Instructions for updating:\n",
      "Use `tf.global_variables_initializer` instead.\n"
     ]
    },
    {
     "name": "stdout",
     "output_type": "stream",
     "text": [
      "Percent of successful episodes:  0.0645\n"
     ]
    }
   ],
   "source": [
    "init = tf.initialize_all_variables()\n",
    "\n",
    "# learning params\n",
    "y = 0.99\n",
    "e = 0.1\n",
    "num_episodes = 2000\n",
    "\n",
    "# list of total rewards and steps per episode\n",
    "jList = []\n",
    "rList = []\n",
    "\n",
    "with tf.Session() as sess:\n",
    "    sess.run(init)\n",
    "    for i in range(num_episodes):\n",
    "        # reset environment and get first observation\n",
    "        s = env.reset()\n",
    "        rAll = 0\n",
    "        d = False\n",
    "        j = 0\n",
    "\n",
    "        # the Q-Network\n",
    "        while j < 99:\n",
    "            j+=1\n",
    "            # Greedily choose an action with e chance of random action from the network\n",
    "            a, allQ = sess.run([predict,Qout], feed_dict={inputs1: np.identity(16)[s:s+1]})\n",
    "            if np.random.rand(1) < e:\n",
    "                a[0] = env.action_space.sample()\n",
    "            # get new state and reward from environment\n",
    "            s1, r, d, _ = env.step(a[0])\n",
    "            Q1 = sess.run(Qout, feed_dict={inputs1:np.identity(16)[s1:s1+1]})\n",
    "            # obtain the MaxQ and reset out target value for chosen action\n",
    "            maxQ1 = np.max(Q1)\n",
    "            targetQ = allQ\n",
    "            targetQ[0, a[0]] = r + y * maxQ1\n",
    "            # Train the network using target and predicted Q values\n",
    "            _,W1 = sess.run([updateModel,W],feed_dict={inputs1:np.identity(16)[s:s+1], nextQ:targetQ})\n",
    "            rAll += r\n",
    "            s = s1\n",
    "\n",
    "            if d == True:\n",
    "                # reduce chance of random action as we train the model.\n",
    "                e = 1./((i/50)+10)\n",
    "                break\n",
    "        jList.append(j)\n",
    "        rList.append(rAll)\n",
    "    \n",
    "print('Percent of successful episodes: ', str(sum(rList)/num_episodes))\n",
    "#print \"Percent of succesful episodes: \" + str(sum(rList)/num_episodes) + \"%\"\n",
    "        \n"
   ]
  },
  {
   "cell_type": "code",
   "execution_count": 7,
   "metadata": {},
   "outputs": [
    {
     "data": {
      "text/plain": [
       "[<matplotlib.lines.Line2D at 0x7fdfec47b588>]"
      ]
     },
     "execution_count": 7,
     "metadata": {},
     "output_type": "execute_result"
    },
    {
     "data": {
      "image/png": "[encoded data removed]",
      "text/plain": [
       "<matplotlib.figure.Figure at 0x7fdfec58a358>"
      ]
     },
     "metadata": {},
     "output_type": "display_data"
    }
   ],
   "source": [
    "# Show some stats\n",
    "plt.plot(rList)"
   ]
  },
  {
   "cell_type": "code",
   "execution_count": 8,
   "metadata": {},
   "outputs": [
    {
     "data": {
      "text/plain": [
       "[<matplotlib.lines.Line2D at 0x7fdfe813f9b0>]"
      ]
     },
     "execution_count": 8,
     "metadata": {},
     "output_type": "execute_result"
    },
    {
     "data": {
      "image/png": "[encoded data removed]",
      "text/plain": [
       "<matplotlib.figure.Figure at 0x7fdfec5a4828>"
      ]
     },
     "metadata": {},
     "output_type": "display_data"
    }
   ],
   "source": [
    "# network begins to progress through the environment for longer than chance around 750 mark\n",
    "plt.plot(jList)"
   ]
  },
  {
   "cell_type": "code",
   "execution_count": null,
   "metadata": {
    "collapsed": true
   },
   "outputs": [],
   "source": []
  }
 ],
 "metadata": {
  "kernelspec": {
   "display_name": "Python 3",
   "language": "python",
   "name": "python3"
  },
  "language_info": {
   "codemirror_mode": {
    "name": "ipython",
    "version": 3
   },
   "file_extension": ".py",
   "mimetype": "text/x-python",
   "name": "python",
   "nbconvert_exporter": "python",
   "pygments_lexer": "ipython3",
   "version": "3.6.1"
  }
 },
 "nbformat": 4,
 "nbformat_minor": 2
}
