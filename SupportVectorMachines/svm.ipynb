{
 "cells": [
  {
   "cell_type": "markdown",
   "metadata": {},
   "source": [
    "#### Support Vector Machines - SVM\n",
    "\n",
    "SVM's are ML models able to perform following ML tasks\n",
    "* linear and non-linear classification\n",
    "* Regression\n",
    "* outlier detection\n",
    "\n",
    "Well suited for classification of complex small to medium-sized datasets.\n",
    "The fundamental idea behind SVM is to fit the widest possible \"street\" (gap)  between the classes. I.e the widest possible margin between decision boundary that seperates the two classes and the training instance.\n",
    "\n",
    "SVM's are sensitive to feature scales. Consider feature scaling to reduce impact.\n",
    "\n"
   ]
  },
  {
   "cell_type": "markdown",
   "metadata": {},
   "source": [
    "##### Soft Margin Classification.\n",
    "With SVM when we impose that all instances are off the \"street\" and on the right side. This is known as __hard margin classification__ . \n",
    "Hard margin classification - only works if the data is linearly seperable and is very sensitive to outliers\n",
    "\n",
    "** Soft Margin Classification ** tries to avoid this issue by: Finding a good balance between keeping the street as large as possible and limiting the __margin violations__\n",
    "\n",
    "In Scikit-Learn SVM classes - we use the \"c\" hyperparamenter to manage this balance.\n",
    "Higher \"C\" leads to wider street\n"
   ]
  },
  {
   "cell_type": "code",
   "execution_count": null,
   "metadata": {
    "collapsed": true
   },
   "outputs": [],
   "source": []
  }
 ],
 "metadata": {
  "kernelspec": {
   "display_name": "Python 3",
   "language": "python",
   "name": "python3"
  },
  "language_info": {
   "codemirror_mode": {
    "name": "ipython",
    "version": 3
   },
   "file_extension": ".py",
   "mimetype": "text/x-python",
   "name": "python",
   "nbconvert_exporter": "python",
   "pygments_lexer": "ipython3",
   "version": "3.6.1"
  }
 },
 "nbformat": 4,
 "nbformat_minor": 2
}
