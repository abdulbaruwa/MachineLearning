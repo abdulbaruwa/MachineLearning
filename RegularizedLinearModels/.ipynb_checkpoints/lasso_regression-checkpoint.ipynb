{
 "cells": [
  {
   "cell_type": "markdown",
   "metadata": {},
   "source": [
    "#### Lasso Regression (Least Absolute Shrinkage and Selection Operator Regression)\n",
    "A regularized version of Linear Regression.\n",
    "Similar to Ridge regression adds regularized term to the cost function.\n",
    "The regularization term uses $l_1 norm$ of the weight vector. Unlike Ridge regression which uses *half the square of $  l_2 norm$*\n",
    "\n",
    "The cost function can be noted as:\n",
    "$J(\\theta) = MSE(\\theta)+\\propto{\\sum^n_{i=1}}{\\bigr|\\theta_i \\bigr|}$\n",
    "\n",
    "Lasso Regression characteristically eliminate the weight of features that are least important. (Sets them to zero)\n"
   ]
  },
  {
   "cell_type": "code",
   "execution_count": 1,
   "metadata": {
    "collapsed": true
   },
   "outputs": [],
   "source": [
    "import numpy as np\n",
    "from sklearn.linear_model import Lasso\n",
    "X_new = np.linspace(0, 3, 100).reshape(100, 1)\n",
    "m = 20\n",
    "X = 3 * np.random.rand(m, 1)\n",
    "y = 1 + 0.5 * X + np.random.randn(m, 1) / 1.5\n"
   ]
  },
  {
   "cell_type": "code",
   "execution_count": 2,
   "metadata": {},
   "outputs": [
    {
     "data": {
      "text/plain": [
       "array([ 1.79838966])"
      ]
     },
     "execution_count": 2,
     "metadata": {},
     "output_type": "execute_result"
    }
   ],
   "source": [
    "lasso_regression = Lasso(alpha=0.1)\n",
    "lasso_regression.fit(X, y)\n",
    "lasso_regression.predict([[1.5]])\n"
   ]
  },
  {
   "cell_type": "code",
   "execution_count": null,
   "metadata": {
    "collapsed": true
   },
   "outputs": [],
   "source": []
  }
 ],
 "metadata": {
  "kernelspec": {
   "display_name": "Python 3",
   "language": "python",
   "name": "python3"
  },
  "language_info": {
   "codemirror_mode": {
    "name": "ipython",
    "version": 3
   },
   "file_extension": ".py",
   "mimetype": "text/x-python",
   "name": "python",
   "nbconvert_exporter": "python",
   "pygments_lexer": "ipython3",
   "version": "3.6.1"
  }
 },
 "nbformat": 4,
 "nbformat_minor": 2
}
