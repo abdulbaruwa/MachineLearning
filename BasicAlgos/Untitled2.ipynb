{
 "cells": [
  {
   "cell_type": "code",
   "execution_count": 1,
   "metadata": {},
   "outputs": [],
   "source": [
    "from bs4 import BeautifulSoup as soup\n",
    "from selenium import webdriver\n",
    "from selenium.webdriver.support.ui import Select\n",
    "from selenium.webdriver.support.ui import WebDriverWait\n",
    "from selenium.webdriver.common.by import By\n",
    "from selenium.common.exceptions import NoSuchElementException\n",
    "from selenium.webdriver.support import expected_conditions as EC\n",
    "from selenium.webdriver.common.keys import Keys\n",
    "import time\n",
    "import json\n",
    "selfdriver = webdriver.Chrome()\n",
    "selfdriver.set_window_size(2200, 1120)\n",
    "login_url = 'https://www.lta.org.uk/member/login/'\n"
   ]
  },
  {
   "cell_type": "code",
   "execution_count": 2,
   "metadata": {},
   "outputs": [
    {
     "data": {
      "text/plain": [
       "<selenium.webdriver.support.expected_conditions.visibility_of_element_located at 0x7f36e010da58>"
      ]
     },
     "execution_count": 2,
     "metadata": {},
     "output_type": "execute_result"
    }
   ],
   "source": [
    "def login_loaded(driver):\n",
    "    # EC.element_to_be_clickable(driver.find_element_by_id('BtnLogin'))\n",
    "    username = EC.visibility_of_element_located((By.ID, 'username'))\n",
    "def loaded1(driver):\n",
    "    return EC.visibility_of_element_located((By.ID, 'HeaderPlaceHolder_ContentHeader_TopLevelNavigation_NavigationRepeater_NavigationLink_7'))\n",
    "def loaded(driver):\n",
    "    return EC.element_to_be_clickable(\"HeaderPlaceHolder_ContentHeader_TopLevelNavigation_NavigationRepeater_NavigationLink_-3\")\n",
    "    username = selfdriver.find_element_by_id(\"HeaderPlaceHolder_ContentHeader_TopLevelNavigation_NavigationRepeater_NavigationLink_-3\")\n",
    "    \n",
    "wait = WebDriverWait(selfdriver, 20)\n",
    "selfdriver.get(login_url) \n",
    "wait.until(loaded1)\n"
   ]
  },
  {
   "cell_type": "code",
   "execution_count": 3,
   "metadata": {},
   "outputs": [],
   "source": [
    "usernames = selfdriver.find_elements_by_id('username')\n",
    "passwords = selfdriver.find_elements_by_id('password')\n",
    "logins = selfdriver.find_elements_by_id('BtnLogin')"
   ]
  },
  {
   "cell_type": "code",
   "execution_count": 4,
   "metadata": {},
   "outputs": [],
   "source": [
    "#selfdriver.execute_script(\"arguments[0].style.opacity = '1';\", username)\n",
    "usernames[3].send_keys('abdulbaruwa')\n",
    "passwords[3].send_keys('Orunmila')"
   ]
  },
  {
   "cell_type": "code",
   "execution_count": 5,
   "metadata": {},
   "outputs": [],
   "source": [
    "logins[3].click()"
   ]
  },
  {
   "cell_type": "code",
   "execution_count": 6,
   "metadata": {},
   "outputs": [
    {
     "data": {
      "text/plain": [
       "<selenium.webdriver.support.expected_conditions.visibility_of_element_located at 0x7f36e9bb6eb8>"
      ]
     },
     "execution_count": 6,
     "metadata": {},
     "output_type": "execute_result"
    }
   ],
   "source": [
    "def tournament_loaded(driver):\n",
    "    return EC.visibility_of_element_located((By.ID, 'ctl00_ctl00_MainContentPlaceHolder_MainContentPlaceHolder_EventDetails_HyperLinkCtaPrimary'))\n",
    "tournament_link = 'https://www3.lta.org.uk/Competitions/Event/?ctn=1-CSAFY17&evt=1-CSAFZY9'\n",
    "selfdriver.get(tournament_link)\n",
    "wait.until(tournament_loaded)"
   ]
  },
  {
   "cell_type": "code",
   "execution_count": 7,
   "metadata": {},
   "outputs": [
    {
     "data": {
      "text/plain": [
       "[<selenium.webdriver.remote.webelement.WebElement (session=\"2c6ec461ed57eca41988aad641bdb2eb\", element=\"0.014331981397724958-1\")>]"
      ]
     },
     "execution_count": 7,
     "metadata": {},
     "output_type": "execute_result"
    }
   ],
   "source": [
    "add_buttons = selfdriver.find_elements_by_id('ctl00_ctl00_MainContentPlaceHolder_MainContentPlaceHolder_EventDetails_HyperLinkCtaPrimary')\n",
    "add_buttons"
   ]
  },
  {
   "cell_type": "code",
   "execution_count": 8,
   "metadata": {
    "collapsed": true
   },
   "outputs": [],
   "source": [
    "add_buttons[0].click()"
   ]
  },
  {
   "cell_type": "code",
   "execution_count": null,
   "metadata": {
    "collapsed": true
   },
   "outputs": [],
   "source": []
  }
 ],
 "metadata": {
  "kernelspec": {
   "display_name": "Python 3",
   "language": "python",
   "name": "python3"
  },
  "language_info": {
   "codemirror_mode": {
    "name": "ipython",
    "version": 3
   },
   "file_extension": ".py",
   "mimetype": "text/x-python",
   "name": "python",
   "nbconvert_exporter": "python",
   "pygments_lexer": "ipython3",
   "version": "3.6.1"
  }
 },
 "nbformat": 4,
 "nbformat_minor": 2
}
