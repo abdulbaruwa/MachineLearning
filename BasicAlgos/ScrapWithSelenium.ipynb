{
 "cells": [
  {
   "cell_type": "code",
   "execution_count": 4,
   "metadata": {
    "collapsed": true
   },
   "outputs": [],
   "source": [
    "from bs4 import BeautifulSoup as soup\n",
    "from selenium import webdriver\n",
    "from selenium.webdriver.support.ui import Select\n",
    "from selenium.webdriver.support.ui import WebDriverWait\n",
    "from selenium.webdriver.common.by import By\n",
    "from selenium.common.exceptions import NoSuchElementException\n",
    "from selenium.webdriver.support import expected_conditions as EC\n",
    "import time\n",
    "import json\n",
    "selfurl = \"http://architectfinder.aia.org/frmSearch.aspx\"\n",
    "selfdriver = webdriver.PhantomJS()\n",
    "selfdriver.set_window_size(1120, 550)"
   ]
  },
  {
   "cell_type": "code",
   "execution_count": 5,
   "metadata": {
    "collapsed": true
   },
   "outputs": [],
   "source": [
    "lta_url = 'https://www3.lta.org.uk/Competitions/Search/Search/#/?gen=/3&status=/4/5&grade=/1/2/3/4&page=0'\n",
    "lta_base_url = 'https://www3.lta.org.uk/Competitions/Search/Search/#/?gen=/3&status=/4/5&grade=/1/2/3/4&page='"
   ]
  },
  {
   "cell_type": "code",
   "execution_count": 6,
   "metadata": {
    "collapsed": true
   },
   "outputs": [],
   "source": [
    "def replace_coma(value):\n",
    "    return value.replace(',','')\n",
    "\n",
    "# tournament_container = page_soup.findAll('div',{'class':'lta-competition-results'})\n",
    "#tournamentDiv = res[0].findAll('div',{'class':'dh'})[0]\n",
    "def getTournaments(tournamentDiv):\n",
    "    tournament = tournamentDiv.a.text\n",
    "    tournamentCode = tournamentDiv.span.text\n",
    "    tournamentLocationDiv = tournamentDiv.findAll('div',{'class':'di'})[0].text\n",
    "    tournamentType = tournamentDiv.findAll('div',{'class':'dk'})[0].text\n",
    "    tournamentDate  = tournamentDiv.findAll('div',{'class':'dl'})[0].text\n",
    "    tournamentSex   = tournamentDiv.findAll('div',{'class':'dp'})[0].text\n",
    "    tournamentGrade  = tournamentDiv.findAll('div',{'class':'d2'})[0].span.text\n",
    "    tournamentDetailsLink =  'https://www3.lta.org.uk' + tournamentDiv.findAll('a',{'class':'titled'})[0]['href']\n",
    "    \n",
    "    tournamentRating  = tournamentDiv.findAll('div',{'class':'d2'})[0].div.text\n",
    "    # print(tournamentDetailsLink)# + ' , ' + tournament + ',' + tournamentCode + ',' + tournamentType + ',' + tournamentDate + ',' + tournamentSex + ',' + tournamentGrade + ',' + tournamentRating)\n",
    "    return tournamentDetailsLink, replace_coma(tournamentDetailsLink) +  ' , ' + replace_coma(tournament) + ',' + replace_coma(tournamentCode) + ',' + replace_coma(tournamentType) + ',' + replace_coma(tournamentDate) + ',' + replace_coma(tournamentSex) + ',' + replace_coma(tournamentGrade) + ',' + replace_coma(tournamentRating) \n",
    "\n",
    "def getTournamentDetails(pagesource):\n",
    "    header = 'Grade , Rating guide , Payment info , Timings info , Provisional Draw Size , Open for entries , Closed for entries , Withdrawal deadline , Start date , End date:\\n'\n",
    "    body = soup(pagesource, 'html.parser')\n",
    "    tournament_containers = body.body.findAll('div',{'class':'lta-key-info'})\n",
    "    rows = tournament_containers[0].table.tbody.findAll('tr')\n",
    "    csv_line = ''\n",
    "    for i in range(1,11):\n",
    "        csv_line += replace_coma(rows[i].td.text.strip())\n",
    "        if i < 10:\n",
    "            csv_line += ' , '\n",
    "\n",
    "        else:\n",
    "            csv_line += '\\n'\n",
    "    return csv_line"
   ]
  },
  {
   "cell_type": "code",
   "execution_count": 7,
   "metadata": {
    "collapsed": true
   },
   "outputs": [],
   "source": [
    "\n",
    "    \n",
    "# page = 4\n",
    "# def match_details_loaded_x(driver):\n",
    "#     return EC.element_to_be_clickable(driver.find_element_by_class_name('lta-fancy-select-value'))  \n",
    "\n",
    "\n",
    "# # url = 'https://www3.lta.org.uk/Competitions/Event/?ctn=1-DWE9KVO&evt=1-DWEA4QF'\n",
    "# url = 'https://www3.lta.org.uk/Competitions/Event/?ctn=1-D11ZNDV&evt=1-D120YZI'\n",
    "# wait = WebDriverWait(selfdriver, 10)\n",
    "# selfdriver.get(url)\n",
    "# wait.until(match_details_loaded_x)\n",
    "\n",
    "# # formloaded = wait.until(EC.element_to_be_clickable((By.CLASS_NAME, 'lta-input-select')))\n",
    "# # x = selfdriver.find_element_by_id(str(page+1))\n",
    "# # print(x.get_attribute('class')=='normal active')\n",
    "# response = selfdriver.page_source\n",
    "# def getTournamentDetails(pagesource):\n",
    "#     header = 'Grade , Rating guide , Payment info , Timings info , Provisional Draw Size , Open for entries , Closed for entries , Withdrawal deadline , Start date , End date:\\n'\n",
    "#     body = soup(pagesource, 'html.parser')\n",
    "#     tournament_containers = body.body.findAll('div',{'class':'lta-key-info'})\n",
    "#     rows = tournament_containers[0].table.tbody.findAll('tr')\n",
    "#     csv_line = ''\n",
    "#     for i in range(1,11):\n",
    "#         csv_line += rows[i].td.text.strip()\n",
    "#         if i < 10:\n",
    "#             csv_line += ' , '\n",
    "\n",
    "#         else:\n",
    "#             csv_line += '\\n'\n",
    "#     return csv_line\n",
    "\n",
    "# getTournamentDetails(response)"
   ]
  },
  {
   "cell_type": "code",
   "execution_count": 8,
   "metadata": {
    "collapsed": true
   },
   "outputs": [],
   "source": [
    "\n",
    "    \n",
    "# page = 4\n",
    "# def next_page(driver):\n",
    "#     pagerNum = driver.find_element_by_id(str(page+1))\n",
    "#     #x = selfdriver.find_element_by_id(str(page+1))\n",
    "#     return pagerNum.get_attribute('class')=='normal active'\n",
    "# url = lta_base_url + str(page)\n",
    "# print(url)\n",
    "# wait = WebDriverWait(selfdriver, 10)\n",
    "# selfdriver.get(url)\n",
    "# wait.until(next_page)\n",
    "# # formloaded = wait.until(EC.element_to_be_clickable((By.CLASS_NAME, 'lta-input-select')))\n",
    "# # x = selfdriver.find_element_by_id(str(page+1))\n",
    "# # print(x.get_attribute('class')=='normal active')\n",
    "# response = selfdriver.page_source\n",
    "# body = soup(response, 'html.parser')\n",
    "# tournament_containers = body.body.findAll('div',{'class':'dd'})\n",
    "# itemsOnPage = len(tournament_containers)\n",
    "# itemsOnPage"
   ]
  },
  {
   "cell_type": "code",
   "execution_count": 32,
   "metadata": {},
   "outputs": [],
   "source": [
    "page = 4\n",
    "def match_details_loaded_x(driver):\n",
    "    return EC.element_to_be_clickable(driver.find_element_by_class_name('lta-fancy-select-value'))  \n",
    "\n",
    "\n",
    "# url = 'https://www3.lta.org.uk/Competitions/Event/?ctn=1-DWE9KVO&evt=1-DWEA4QF'\n",
    "# url = 'https://www3.lta.org.uk/Competitions/Event/?ctn=1-D11ZNDV&evt=1-D120YZI'\n",
    "url = 'https://www3.lta.org.uk/Competitions/Event/?ctn=1-B7KV97H&evt=1-B7KVCV5'\n",
    "wait = WebDriverWait(selfdriver, 10)\n",
    "selfdriver.get(url)\n",
    "wait.until(match_details_loaded_x)\n",
    "\n",
    "# formloaded = wait.until(EC.element_to_be_clickable((By.CLASS_NAME, 'lta-input-select')))\n",
    "# x = selfdriver.find_element_by_id(str(page+1))\n",
    "# print(x.get_attribute('class')=='normal active')\n",
    "response = selfdriver.page_source\n",
    "def getTournamentPlayers(page_source):\n",
    "    body = soup(page_source, 'html.parser')\n",
    "    entrants_container = body.body.findAll('div',{'id':'ctl00_ctl00_MainContentPlaceHolder_MainContentPlaceHolder_EventEntrants_EntrantsRecieved_lvEntrants_pnlEntrants'})\n",
    "    if len(entrants_container) == 0:\n",
    "        print('No entrants found for the policy')\n",
    "        return []\n",
    "    # print(entrants_container[0].table.tbody.findAll('tr'))\n",
    "    rows = entrants_container[0].table.tbody.findAll('tr')\n",
    "    players = []\n",
    "    for i in range(len(rows)):\n",
    "        data = {}\n",
    "        tds = rows[i].findAll('td')\n",
    "        data['player_name'] = tds[1].a.text\n",
    "        data['player_link'] = tds[1].a['href']\n",
    "        data['player_rating'] = tds[3].text\n",
    "        data['player_county'] = tds[4].text\n",
    "        players.append(data)\n",
    "    entrants_data = {}    \n",
    "    entrants_data['entrants'] = players\n",
    "    json_data = json.dumps(entrants_data)\n",
    "    return json_data\n",
    "def get_tournament_address(pagesource):\n",
    "    body = soup(pagesource, 'html.parser')\n",
    "    address_containers = body.body.findAll('address')\n",
    "    venue = body.body.findAll('a', {'id':'ctl00_ctl00_MainContentPlaceHolder_MainContentPlaceHolder_PlaceToPlay_hyperLinkVenueHeading'})\n",
    "    \n",
    "    return address_containers\n",
    "    \n",
    "def getTournamentDetails(pagesource):\n",
    "    header = 'Grade , Rating guide , Payment info , Timings info , Provisional Draw Size , Open for entries , Closed for entries , Withdrawal deadline , Start date , End date:\\n'\n",
    "    body = soup(pagesource, 'html.parser')\n",
    "    tournament_containers = body.body.findAll('div',{'class':'lta-key-info'})\n",
    "    rows = tournament_containers[0].table.tbody.findAll('tr')\n",
    "    csv_line = ''\n",
    "    for i in range(1,11):\n",
    "        csv_line += rows[i].td.text.strip()\n",
    "        if i < 10:\n",
    "            csv_line += ' , '\n",
    "\n",
    "        else:\n",
    "            csv_line += '\\n'\n",
    "    return csv_line\n",
    "\n",
    "# getTournamentDetails(response)\n",
    "entrants_div = get_tournament_address(response)"
   ]
  },
  {
   "cell_type": "code",
   "execution_count": 34,
   "metadata": {},
   "outputs": [
    {
     "data": {
      "text/plain": [
       "'\\n                    Weoley Hill,Selly Oak,BIRMINGHAM, B29 4AR\\n                '"
      ]
     },
     "execution_count": 34,
     "metadata": {},
     "output_type": "execute_result"
    }
   ],
   "source": [
    "entrants_div[0].text"
   ]
  },
  {
   "cell_type": "code",
   "execution_count": 2,
   "metadata": {},
   "outputs": [
    {
     "data": {
      "text/plain": [
       "'{\"key\": \"value\"}'"
      ]
     },
     "execution_count": 2,
     "metadata": {},
     "output_type": "execute_result"
    }
   ],
   "source": [
    "import json\n",
    "data = {}\n",
    "data['key'] = 'value'\n",
    "json_data = json.dumps(data)\n",
    "json_data"
   ]
  },
  {
   "cell_type": "code",
   "execution_count": null,
   "metadata": {},
   "outputs": [],
   "source": [
    "len(entrants_div)"
   ]
  },
  {
   "cell_type": "code",
   "execution_count": null,
   "metadata": {
    "collapsed": true
   },
   "outputs": [],
   "source": [
    "def get_url_body(url, driver, lmbda):\n",
    "    wait = WebDriverWait(driver, 10)\n",
    "    driver.get(url)\n",
    "    try:\n",
    "        wait.until(lmbda)\n",
    "        return driver.page_source\n",
    "    except Exception as e:\n",
    "        print('next_page exception: ' + str(e))\n",
    "        \n",
    "def get_tournament_details(url, driver):\n",
    "    driver.get(url)\n",
    "\n"
   ]
  },
  {
   "cell_type": "code",
   "execution_count": null,
   "metadata": {},
   "outputs": [],
   "source": [
    "filename = '/home/datadrive/lta_dump/tournaments.csv'\n",
    "header = 'tournamentDetailsLink' +  ' , ' + 'tournament' + ',' + 'tournamentCode' + ',' + 'tournamentType' + ',' + 'tournamentDate' + ',' + 'tournamentSex' + ',' + 'tournamentGrade' + ',' + 'tournamentRating' \n",
    "header = header + ', Grade , Rating guide , Payment info , Timings info , Provisional Draw Size , Open for entries , Closed for entries , Withdrawal deadline , Start date , End date:\\n'\n",
    "f = open(filename, 'w')\n",
    "f.write(header)\n",
    "    \n",
    "page = 0\n",
    "\n",
    "def next_page(driver):\n",
    "    pagerNum = driver.find_element_by_id(str(page+1))\n",
    "    #x = selfdriver.find_element_by_id(str(page+1))\n",
    "    return pagerNum.get_attribute('class')=='normal active'\n",
    "    \n",
    "def match_details_loaded(driver):\n",
    "    return EC.element_to_be_clickable(driver.find_element_by_class_name('lta-fancy-select-value'))\n",
    "\n",
    "itemsOnPage = 10\n",
    "while (itemsOnPage > 0):\n",
    "    url = lta_base_url + str(page)\n",
    "    #print(url)\n",
    "\n",
    "    response = get_url_body(url, selfdriver, next_page)\n",
    "    \n",
    "#     wait = WebDriverWait(selfdriver, 10)\n",
    "#     selfdriver.get(url)\n",
    "#     try:\n",
    "#         wait.until(next_page)\n",
    "#     except Exception as e:\n",
    "#         print('next_page exception: ' + str(e))\n",
    "        \n",
    "#    response = selfdriver.page_source\n",
    "    body = soup(response, 'html.parser')\n",
    "    tournament_containers = body.body.findAll('div',{'class':'dd'})\n",
    "    itemsOnPage = len(tournament_containers)\n",
    "    print(itemsOnPage)\n",
    "    page +=1\n",
    "    time.sleep(1)\n",
    "     \n",
    "    for container in tournament_containers:\n",
    "        detail_link, file_line = getTournaments(container)\n",
    "        print(detail_link)\n",
    "        detailresponse = get_url_body(detail_link, selfdriver, match_details_loaded)\n",
    "        detail_line = getTournamentDetails(detailresponse)\n",
    "        file_line = file_line + ', ' + detail_line\n",
    "        # print(file_line)\n",
    "        f.write(file_line)\n",
    "    print('page ' + str(page) + ' done!')\n",
    "\n",
    "#f.close()"
   ]
  },
  {
   "cell_type": "code",
   "execution_count": null,
   "metadata": {
    "collapsed": true
   },
   "outputs": [],
   "source": [
    "f.close()"
   ]
  },
  {
   "cell_type": "code",
   "execution_count": null,
   "metadata": {
    "collapsed": true
   },
   "outputs": [],
   "source": []
  }
 ],
 "metadata": {
  "kernelspec": {
   "display_name": "Python 3",
   "language": "python",
   "name": "python3"
  },
  "language_info": {
   "codemirror_mode": {
    "name": "ipython",
    "version": 3
   },
   "file_extension": ".py",
   "mimetype": "text/x-python",
   "name": "python",
   "nbconvert_exporter": "python",
   "pygments_lexer": "ipython3",
   "version": "3.6.1"
  }
 },
 "nbformat": 4,
 "nbformat_minor": 2
}
