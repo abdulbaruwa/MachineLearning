{
 "cells": [
  {
   "cell_type": "code",
   "execution_count": 1,
   "metadata": {
    "collapsed": true
   },
   "outputs": [],
   "source": [
    "import pydocumentdb.documents as documents\n",
    "import pydocumentdb.document_client as document_client\n",
    "import pydocumentdb.errors as errors\n",
    "\n"
   ]
  },
  {
   "cell_type": "code",
   "execution_count": 4,
   "metadata": {},
   "outputs": [
    {
     "data": {
      "text/plain": [
       "'2017-10-13 21:55:01'"
      ]
     },
     "execution_count": 4,
     "metadata": {},
     "output_type": "execute_result"
    }
   ],
   "source": [
    "import datetime\n",
    "datetime.datetime.now().strftime(\"%Y-%m-%d %H:%M:%S\")\n"
   ]
  },
  {
   "cell_type": "code",
   "execution_count": 23,
   "metadata": {
    "collapsed": true
   },
   "outputs": [],
   "source": [
    "\n",
    "db_link = 'dbs/'\n",
    "f = open('/home/datadrive/azure_secrets/tennisai.config')\n",
    "\n",
    "config = f.read();\n",
    "f.close()"
   ]
  },
  {
   "cell_type": "code",
   "execution_count": 2,
   "metadata": {
    "collapsed": true
   },
   "outputs": [],
   "source": [
    "\n",
    "config = { \n",
    "    'ENDPOINT': 'https://tennis-ai.documents.azure.com:443/',\n",
    "    'MASTERKEY': 'bJrdFC4mD7rxgHF5FFReaUmRWs7nid6W2AVWBFmnTsNESklvhdoyiY1v44Zl4eqH3VtXLQrsqAS57mfnooR7Wg==',\n",
    "    'DOCUMENTDB_DATABASE': 'tennisai',\n",
    "    'DOCUMENTDB_COLLECTION': 'tournaments'\n",
    "};\n",
    "\n",
    "client = document_client.DocumentClient(config['ENDPOINT'], {'masterKey': config['MASTERKEY']})"
   ]
  },
  {
   "cell_type": "code",
   "execution_count": 24,
   "metadata": {},
   "outputs": [
    {
     "data": {
      "text/plain": [
       "\"config = { \\n    'ENDPOINT': 'https://tennis-ai.documents.azure.com:443/',\\n    'MASTERKEY': 'bJrdFC4mD7rxgHF5FFReaUmRWs7nid6W2AVWBFmnTsNESklvhdoyiY1v44Zl4eqH3VtXLQrsqAS57mfnooR7Wg==',\\n    'DOCUMENTDB_DATABASE': 'tennisai',\\n    'DOCUMENTDB_COLLECTION': 'tournaments'\\n};\""
      ]
     },
     "execution_count": 24,
     "metadata": {},
     "output_type": "execute_result"
    }
   ],
   "source": [
    "config"
   ]
  },
  {
   "cell_type": "code",
   "execution_count": 3,
   "metadata": {
    "collapsed": true
   },
   "outputs": [],
   "source": [
    "query_iterable = client.QueryDatabases(\"SELECT * FROM root r WHERE r.id='tennisai'\")\n",
    "it = iter(query_iterable)"
   ]
  },
  {
   "cell_type": "code",
   "execution_count": 4,
   "metadata": {
    "collapsed": true
   },
   "outputs": [],
   "source": [
    "db = next(it)"
   ]
  },
  {
   "cell_type": "code",
   "execution_count": 5,
   "metadata": {},
   "outputs": [
    {
     "data": {
      "text/plain": [
       "{'_colls': 'colls/',\n",
       " '_etag': '\"00009900-0000-0000-0000-59df5ccf0000\"',\n",
       " '_rid': 'gNZ5AA==',\n",
       " '_self': 'dbs/gNZ5AA==/',\n",
       " '_ts': 1507810511,\n",
       " '_users': 'users/',\n",
       " 'id': 'tennisai'}"
      ]
     },
     "execution_count": 5,
     "metadata": {},
     "output_type": "execute_result"
    }
   ],
   "source": [
    "db"
   ]
  },
  {
   "cell_type": "code",
   "execution_count": 6,
   "metadata": {
    "collapsed": true
   },
   "outputs": [],
   "source": [
    " def GetDatabaseLink(database, is_name_based=True):\n",
    "        if is_name_based:\n",
    "            return 'dbs/' + database['id']\n",
    "        else:\n",
    "            return database['_self']\n"
   ]
  },
  {
   "cell_type": "code",
   "execution_count": 7,
   "metadata": {
    "collapsed": true
   },
   "outputs": [],
   "source": [
    " def GetDocumentCollectionLink(database, document_collection, is_name_based=True):\n",
    "    if is_name_based:\n",
    "        return GetDatabaseLink(database) + '/colls/' + document_collection['id']\n",
    "    else:\n",
    "        return document_collection['_self']"
   ]
  },
  {
   "cell_type": "code",
   "execution_count": 8,
   "metadata": {
    "collapsed": true
   },
   "outputs": [],
   "source": [
    "db_link = GetDatabaseLink(db)\n",
    "class CollectionManagement:\n",
    "    @staticmethod\n",
    "    def find_collection(client, id):\n",
    "        print('1. Query for Collection')\n",
    "\n",
    "        collections = list(client.QueryCollections(\n",
    "            db_link,\n",
    "            {\n",
    "                \"query\": \"SELECT * FROM r WHERE r.id=@id\",\n",
    "                \"parameters\": [{ \"name\":\"@id\", \"value\": id }]\n",
    "            }\n",
    "        ))\n",
    "\n",
    "        if len(collections) > 0:\n",
    "            print('Collection with id \\'{0}\\' was found'.format(id))\n",
    "            return collections\n",
    "        else:\n",
    "            print('No collection with id \\'{0}\\' was found'. format(id))\n",
    "            return []\n"
   ]
  },
  {
   "cell_type": "code",
   "execution_count": 9,
   "metadata": {},
   "outputs": [
    {
     "name": "stdout",
     "output_type": "stream",
     "text": [
      "1. Query for Collection\n",
      "Collection with id 'tournaments' was found\n"
     ]
    }
   ],
   "source": [
    "tournaments = CollectionManagement.find_collection(client, 'tournaments')\n",
    "\n"
   ]
  },
  {
   "cell_type": "code",
   "execution_count": null,
   "metadata": {
    "collapsed": true
   },
   "outputs": [],
   "source": [
    "db_link"
   ]
  },
  {
   "cell_type": "code",
   "execution_count": 10,
   "metadata": {
    "collapsed": true
   },
   "outputs": [],
   "source": [
    "col = iter(tournaments)"
   ]
  },
  {
   "cell_type": "code",
   "execution_count": 16,
   "metadata": {
    "collapsed": true
   },
   "outputs": [],
   "source": [
    "# Create some documents\n",
    "document1 = client.CredocuateDocument('dbs/tennisai/colls/tournaments',\n",
    "    { \n",
    "        'id': 'server1',\n",
    "        'Web Site': 0,\n",
    "        'Cloud Service': 0,\n",
    "        'Virtual Machine': 0,\n",
    "        'name': 'some' \n",
    "    })\n"
   ]
  },
  {
   "cell_type": "code",
   "execution_count": 11,
   "metadata": {
    "collapsed": true
   },
   "outputs": [],
   "source": [
    "v = next(col)"
   ]
  },
  {
   "cell_type": "code",
   "execution_count": 14,
   "metadata": {
    "collapsed": true
   },
   "outputs": [],
   "source": [
    "v\n",
    "\n",
    "doc_link = GetDocumentCollectionLink(db, v)"
   ]
  },
  {
   "cell_type": "code",
   "execution_count": 15,
   "metadata": {},
   "outputs": [
    {
     "data": {
      "text/plain": [
       "'dbs/tennisai/colls/tournaments'"
      ]
     },
     "execution_count": 15,
     "metadata": {},
     "output_type": "execute_result"
    }
   ],
   "source": [
    "doc_link"
   ]
  },
  {
   "cell_type": "code",
   "execution_count": null,
   "metadata": {
    "collapsed": true
   },
   "outputs": [],
   "source": []
  }
 ],
 "metadata": {
  "kernelspec": {
   "display_name": "Python 3",
   "language": "python",
   "name": "python3"
  },
  "language_info": {
   "codemirror_mode": {
    "name": "ipython",
    "version": 3
   },
   "file_extension": ".py",
   "mimetype": "text/x-python",
   "name": "python",
   "nbconvert_exporter": "python",
   "pygments_lexer": "ipython3",
   "version": "3.6.1"
  }
 },
 "nbformat": 4,
 "nbformat_minor": 2
}
