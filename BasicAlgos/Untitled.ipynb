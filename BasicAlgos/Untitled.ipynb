{
 "cells": [
  {
   "cell_type": "code",
   "execution_count": 1,
   "metadata": {
    "collapsed": true
   },
   "outputs": [],
   "source": [
    "from bs4 import BeautifulSoup as soup\n",
    "import dryscrape\n",
    "from urllib.request import urlopen as uReq"
   ]
  },
  {
   "cell_type": "code",
   "execution_count": 1,
   "metadata": {
    "collapsed": true
   },
   "outputs": [],
   "source": [
    "import json"
   ]
  },
  {
   "cell_type": "code",
   "execution_count": 2,
   "metadata": {
    "collapsed": true
   },
   "outputs": [],
   "source": [
    "lta_url = 'https://www3.lta.org.uk/Competitions/Search/Search/#/?gen=/3&status=/4/5&grade=/1/2/3/4&page=0'\n",
    "lta_base_url = 'https://www3.lta.org.uk/Competitions/Search/Search/#/?gen=/3&status=/4/5&grade=/1/2/3/4&page='\n"
   ]
  },
  {
   "cell_type": "code",
   "execution_count": 11,
   "metadata": {
    "collapsed": true
   },
   "outputs": [],
   "source": [
    "session = dryscrape.Session()\n",
    "session.visit('https://www3.lta.org.uk/Competitions/Search/Search/#/?gen=/3&status=/4/5&grade=/1/2/3/4&page=9')\n",
    "response = session.body()"
   ]
  },
  {
   "cell_type": "code",
   "execution_count": 12,
   "metadata": {
    "collapsed": true
   },
   "outputs": [],
   "source": [
    "page = soup(response, 'html.parser')"
   ]
  },
  {
   "cell_type": "code",
   "execution_count": 13,
   "metadata": {
    "collapsed": true
   },
   "outputs": [],
   "source": [
    "res = page.findAll('div',{'class':'dd'})\n"
   ]
  },
  {
   "cell_type": "code",
   "execution_count": 1,
   "metadata": {},
   "outputs": [],
   "source": []
  },
  {
   "cell_type": "code",
   "execution_count": null,
   "metadata": {
    "collapsed": true
   },
   "outputs": [],
   "source": [
    "# tournament_container = page_soup.findAll('div',{'class':'lta-competition-results'})\n",
    "tournamentDiv = res[0].findAll('div',{'class':'dh'})[0]\n",
    "def getTournamentDetails(tournamentDiv):\n",
    "    tournament = tournamentDiv.a.text\n",
    "    tournamentCode = tournamentDiv.span.text\n",
    "    tournamentLocationDiv = tournamentDiv.findAll('div',{'class':'di'})[0].text\n",
    "    tournamentType = tournamentDiv.findAll('div',{'class':'dk'})[0].text\n",
    "    tournamentDate  = tournamentDiv.findAll('div',{'class':'dl'})[0].text\n",
    "    tournamentSex   = tournamentDiv.findAll('div',{'class':'dp'})[0].text\n",
    "    tournamentGrade  = tournamentDiv.findAll('div',{'class':'d2'})[0].span.text\n",
    "    tournamentDetailsLink =  'https://www3.lta.org.uk' + tournamentDiv.findAll('a',{'class':'titled'})[0]['href']\n",
    "    \n",
    "    tournamentRating  = res[0].findAll('div',{'class':'d2'})[0].div.text\n",
    "    # print(tournamentDetailsLink)# + ' , ' + tournament + ',' + tournamentCode + ',' + tournamentType + ',' + tournamentDate + ',' + tournamentSex + ',' + tournamentGrade + ',' + tournamentRating)\n",
    "    return tournamentDetailsLink +  ' , ' + tournament + ',' + tournamentCode + ',' + tournamentType + ',' + tournamentDate + ',' + tournamentSex + ',' + tournamentGrade + ',' + tournamentRating\n",
    "\n",
    "\n"
   ]
  },
  {
   "cell_type": "code",
   "execution_count": null,
   "metadata": {
    "collapsed": true,
    "scrolled": true
   },
   "outputs": [],
   "source": [
    "filename = '/home/datadrive/lta_dump/tournaments.csv'\n",
    "header = 'tournamentDetailsLink' +  ' , ' + 'tournament' + ',' + 'tournamentCode' + ',' + 'tournamentType' + ',' + 'tournamentDate' + ',' + 'tournamentSex' + ',' + 'tournamentGrade' + ',' + 'tournamentRating'\n",
    "with open(filename, 'w') as f:\n",
    "    f.write(header)\n",
    "    \n",
    "page = 0\n",
    "itemsOnPage = 10\n",
    "while (itemsOnPage > 0):\n",
    "    session = dryscrape.Session()\n",
    "    url = lta_base_url + str(page)\n",
    "    print(url)\n",
    "    session.visit(url)\n",
    "    response = session.body()    \n",
    "    body = soup(response, 'html.parser')\n",
    "    tournament_containers = body.findAll('div',{'class':'dd'})\n",
    "    itemsOnPage = len(tournament_containers)\n",
    "    print(itemsOnPage)\n",
    "    page +=1\n",
    "    \n",
    " \n",
    "    for container in tournament_containers:\n",
    "        file_line = getTournamentDetails(container)\n",
    "        \n",
    "        #with open(filename, 'a') as f:\n",
    "        #    f.write(file_line)\n",
    "    print('page ' + str(page) + ' done!')"
   ]
  },
  {
   "cell_type": "code",
   "execution_count": null,
   "metadata": {
    "collapsed": true
   },
   "outputs": [],
   "source": [
    "import requests\n",
    "url_get = requests.get(lta_url)"
   ]
  },
  {
   "cell_type": "code",
   "execution_count": null,
   "metadata": {
    "collapsed": true
   },
   "outputs": [],
   "source": [
    "stuff = soup(url_get.content, 'html.parser')"
   ]
  },
  {
   "cell_type": "code",
   "execution_count": null,
   "metadata": {
    "collapsed": true
   },
   "outputs": [],
   "source": [
    "stuff"
   ]
  },
  {
   "cell_type": "code",
   "execution_count": null,
   "metadata": {
    "collapsed": true
   },
   "outputs": [],
   "source": []
  }
 ],
 "metadata": {
  "kernelspec": {
   "display_name": "Python 3",
   "language": "python",
   "name": "python3"
  },
  "language_info": {
   "codemirror_mode": {
    "name": "ipython",
    "version": 3
   },
   "file_extension": ".py",
   "mimetype": "text/x-python",
   "name": "python",
   "nbconvert_exporter": "python",
   "pygments_lexer": "ipython3",
   "version": "3.6.1"
  }
 },
 "nbformat": 4,
 "nbformat_minor": 2
}
