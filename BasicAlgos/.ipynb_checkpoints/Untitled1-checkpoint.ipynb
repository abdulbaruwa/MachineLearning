{
 "cells": [
  {
   "cell_type": "code",
   "execution_count": 2,
   "metadata": {
    "collapsed": true
   },
   "outputs": [],
   "source": [
    "import pydocumentdb.documents as documents\n",
    "import pydocumentdb.document_client as document_client\n",
    "import pydocumentdb.errors as errors\n",
    "\n"
   ]
  },
  {
   "cell_type": "code",
   "execution_count": 3,
   "metadata": {
    "collapsed": true
   },
   "outputs": [],
   "source": [
    "\n",
    "config = { \n",
    "    'ENDPOINT': 'https://tennis-ai.documents.azure.com:443/',\n",
    "    'MASTERKEY': 'bJrdFC4mD7rxgHF5FFReaUmRWs7nid6W2AVWBFmnTsNESklvhdoyiY1v44Zl4eqH3VtXLQrsqAS57mfnooR7Wg==',\n",
    "    'DOCUMENTDB_DATABASE': 'tennisai',\n",
    "    'DOCUMENTDB_COLLECTION': 'tournaments'\n",
    "};\n",
    "\n",
    "client = document_client.DocumentClient(config['ENDPOINT'], {'masterKey': config['MASTERKEY']})"
   ]
  },
  {
   "cell_type": "code",
   "execution_count": 9,
   "metadata": {},
   "outputs": [],
   "source": [
    "query_iterable = client.QueryDatabases(\"SELECT * FROM root r WHERE r.id='tennisai'\")\n",
    "it = iter(query_iterable)"
   ]
  },
  {
   "cell_type": "code",
   "execution_count": 11,
   "metadata": {},
   "outputs": [],
   "source": [
    "db = next(it)"
   ]
  },
  {
   "cell_type": "code",
   "execution_count": 23,
   "metadata": {
    "collapsed": true
   },
   "outputs": [],
   "source": [
    " def GetDatabaseLink(database, is_name_based=True):\n",
    "        if is_name_based:\n",
    "            return 'dbs/' + database['id']\n",
    "        else:\n",
    "            return database['_self']\n"
   ]
  },
  {
   "cell_type": "code",
   "execution_count": null,
   "metadata": {
    "collapsed": true
   },
   "outputs": [],
   "source": [
    " def GetDocumentCollectionLink(cls, database, document_collection, is_name_based=True):\n",
    "    if is_name_based:\n",
    "        return cls.GetDatabaseLink(database) + '/colls/' + document_collection['id']\n",
    "    else:\n",
    "    return document_collection['_self']"
   ]
  },
  {
   "cell_type": "code",
   "execution_count": 24,
   "metadata": {},
   "outputs": [
    {
     "data": {
      "text/plain": [
       "'dbs/tennisai'"
      ]
     },
     "execution_count": 24,
     "metadata": {},
     "output_type": "execute_result"
    }
   ],
   "source": [
    "db_link = GetDatabaseLink(db)\n",
    "db_link"
   ]
  },
  {
   "cell_type": "code",
   "execution_count": 25,
   "metadata": {},
   "outputs": [],
   "source": [
    "class CollectionManagement:\n",
    "    @staticmethod\n",
    "    def find_collection(client, id):\n",
    "        print('1. Query for Collection')\n",
    "\n",
    "        collections = list(client.QueryCollections(\n",
    "            db_link,\n",
    "            {\n",
    "                \"query\": \"SELECT * FROM r WHERE r.id=@id\",\n",
    "                \"parameters\": [{ \"name\":\"@id\", \"value\": id }]\n",
    "            }\n",
    "        ))\n",
    "\n",
    "        if len(collections) > 0:\n",
    "            print('Collection with id \\'{0}\\' was found'.format(id))\n",
    "        else:\n",
    "            print('No collection with id \\'{0}\\' was found'. format(id))\n"
   ]
  },
  {
   "cell_type": "code",
   "execution_count": 26,
   "metadata": {},
   "outputs": [
    {
     "name": "stdout",
     "output_type": "stream",
     "text": [
      "1. Query for Collection\n",
      "Collection with id 'tournaments' was found\n"
     ]
    }
   ],
   "source": [
    "tournaments = CollectionManagement.find_collection(client, 'tournaments')"
   ]
  },
  {
   "cell_type": "code",
   "execution_count": 36,
   "metadata": {},
   "outputs": [],
   "source": [
    "tournaments"
   ]
  },
  {
   "cell_type": "code",
   "execution_count": 33,
   "metadata": {},
   "outputs": [
    {
     "ename": "ValueError",
     "evalue": "database_or_collection_link is None or empty.",
     "output_type": "error",
     "traceback": [
      "\u001b[0;31m---------------------------------------------------------------------------\u001b[0m",
      "\u001b[0;31mValueError\u001b[0m                                Traceback (most recent call last)",
      "\u001b[0;32m<ipython-input-33-93093cd18628>\u001b[0m in \u001b[0;36m<module>\u001b[0;34m()\u001b[0m\n\u001b[1;32m      6\u001b[0m         \u001b[0;34m'Cloud Service'\u001b[0m\u001b[0;34m:\u001b[0m \u001b[0;36m0\u001b[0m\u001b[0;34m,\u001b[0m\u001b[0;34m\u001b[0m\u001b[0m\n\u001b[1;32m      7\u001b[0m         \u001b[0;34m'Virtual Machine'\u001b[0m\u001b[0;34m:\u001b[0m \u001b[0;36m0\u001b[0m\u001b[0;34m,\u001b[0m\u001b[0;34m\u001b[0m\u001b[0m\n\u001b[0;32m----> 8\u001b[0;31m         \u001b[0;34m'name'\u001b[0m\u001b[0;34m:\u001b[0m \u001b[0;34m'some'\u001b[0m\u001b[0;34m\u001b[0m\u001b[0m\n\u001b[0m\u001b[1;32m      9\u001b[0m     })\n",
      "\u001b[0;32m/home/dayo/.conda/envs/py3/lib/python3.6/site-packages/pydocumentdb/document_client.py\u001b[0m in \u001b[0;36mCreateDocument\u001b[0;34m(self, database_or_collection_link, document, options)\u001b[0m\n\u001b[1;32m    854\u001b[0m             \u001b[0moptions\u001b[0m \u001b[0;34m=\u001b[0m \u001b[0mself\u001b[0m\u001b[0;34m.\u001b[0m\u001b[0m_AddPartitionKey\u001b[0m\u001b[0;34m(\u001b[0m\u001b[0mdatabase_or_collection_link\u001b[0m\u001b[0;34m,\u001b[0m \u001b[0mdocument\u001b[0m\u001b[0;34m,\u001b[0m \u001b[0moptions\u001b[0m\u001b[0;34m)\u001b[0m\u001b[0;34m\u001b[0m\u001b[0m\n\u001b[1;32m    855\u001b[0m \u001b[0;34m\u001b[0m\u001b[0m\n\u001b[0;32m--> 856\u001b[0;31m         \u001b[0mcollection_id\u001b[0m\u001b[0;34m,\u001b[0m \u001b[0mdocument\u001b[0m\u001b[0;34m,\u001b[0m \u001b[0mpath\u001b[0m \u001b[0;34m=\u001b[0m \u001b[0mself\u001b[0m\u001b[0;34m.\u001b[0m\u001b[0m_GetCollectionIdWithPathForDocument\u001b[0m\u001b[0;34m(\u001b[0m\u001b[0mdatabase_or_collection_link\u001b[0m\u001b[0;34m,\u001b[0m \u001b[0mdocument\u001b[0m\u001b[0;34m,\u001b[0m \u001b[0moptions\u001b[0m\u001b[0;34m)\u001b[0m\u001b[0;34m\u001b[0m\u001b[0m\n\u001b[0m\u001b[1;32m    857\u001b[0m         return self.Create(document,\n\u001b[1;32m    858\u001b[0m                            \u001b[0mpath\u001b[0m\u001b[0;34m,\u001b[0m\u001b[0;34m\u001b[0m\u001b[0m\n",
      "\u001b[0;32m/home/dayo/.conda/envs/py3/lib/python3.6/site-packages/pydocumentdb/document_client.py\u001b[0m in \u001b[0;36m_GetCollectionIdWithPathForDocument\u001b[0;34m(self, database_or_collection_link, document, options)\u001b[0m\n\u001b[1;32m    902\u001b[0m \u001b[0;34m\u001b[0m\u001b[0m\n\u001b[1;32m    903\u001b[0m         \u001b[0;32mif\u001b[0m \u001b[0;32mnot\u001b[0m \u001b[0mdatabase_or_collection_link\u001b[0m\u001b[0;34m:\u001b[0m\u001b[0;34m\u001b[0m\u001b[0m\n\u001b[0;32m--> 904\u001b[0;31m             \u001b[0;32mraise\u001b[0m \u001b[0mValueError\u001b[0m\u001b[0;34m(\u001b[0m\u001b[0;34m\"database_or_collection_link is None or empty.\"\u001b[0m\u001b[0;34m)\u001b[0m\u001b[0;34m\u001b[0m\u001b[0m\n\u001b[0m\u001b[1;32m    905\u001b[0m \u001b[0;34m\u001b[0m\u001b[0m\n\u001b[1;32m    906\u001b[0m         \u001b[0;32mif\u001b[0m \u001b[0mdocument\u001b[0m \u001b[0;32mis\u001b[0m \u001b[0;32mNone\u001b[0m\u001b[0;34m:\u001b[0m\u001b[0;34m\u001b[0m\u001b[0m\n",
      "\u001b[0;31mValueError\u001b[0m: database_or_collection_link is None or empty."
     ]
    }
   ],
   "source": [
    "# Create some documents\n",
    "document1 = client.CreateDocument(tournaments,\n",
    "    { \n",
    "        'id': 'server1',\n",
    "        'Web Site': 0,\n",
    "        'Cloud Service': 0,\n",
    "        'Virtual Machine': 0,\n",
    "        'name': 'some' \n",
    "    })\n"
   ]
  },
  {
   "cell_type": "code",
   "execution_count": null,
   "metadata": {
    "collapsed": true
   },
   "outputs": [],
   "source": []
  },
  {
   "cell_type": "code",
   "execution_count": null,
   "metadata": {
    "collapsed": true
   },
   "outputs": [],
   "source": []
  },
  {
   "cell_type": "code",
   "execution_count": null,
   "metadata": {
    "collapsed": true
   },
   "outputs": [],
   "source": []
  }
 ],
 "metadata": {
  "kernelspec": {
   "display_name": "Python 3",
   "language": "python",
   "name": "python3"
  },
  "language_info": {
   "codemirror_mode": {
    "name": "ipython",
    "version": 3
   },
   "file_extension": ".py",
   "mimetype": "text/x-python",
   "name": "python",
   "nbconvert_exporter": "python",
   "pygments_lexer": "ipython3",
   "version": "3.6.1"
  }
 },
 "nbformat": 4,
 "nbformat_minor": 2
}
