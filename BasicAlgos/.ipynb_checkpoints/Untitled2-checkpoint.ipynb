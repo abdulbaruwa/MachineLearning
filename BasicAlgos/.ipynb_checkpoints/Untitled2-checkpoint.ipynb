{
 "cells": [
  {
   "cell_type": "code",
   "execution_count": 1,
   "metadata": {},
   "outputs": [],
   "source": [
    "from bs4 import BeautifulSoup as soup\n",
    "from selenium import webdriver\n",
    "from selenium.webdriver.support.ui import Select\n",
    "from selenium.webdriver.support.ui import WebDriverWait\n",
    "from selenium.webdriver.common.by import By\n",
    "from selenium.common.exceptions import NoSuchElementException\n",
    "from selenium.webdriver.support import expected_conditions as EC\n",
    "from selenium.webdriver.common.keys import Keys\n",
    "import time\n",
    "import json\n",
    "selfdriver = webdriver.Chrome()\n",
    "selfdriver.set_window_size(2200, 1120)\n",
    "login_url = 'https://www.lta.org.uk/member/login/'\n"
   ]
  },
  {
   "cell_type": "code",
   "execution_count": null,
   "metadata": {},
   "outputs": [],
   "source": [
    "def login_loaded(driver):\n",
    "    # EC.element_to_be_clickable(driver.find_element_by_id('BtnLogin'))\n",
    "    username = EC.visibility_of_element_located((By.ID, 'username'))\n",
    "def loaded1(driver):\n",
    "    return EC.visibility_of_element_located((By.ID, 'HeaderPlaceHolder_ContentHeader_TopLevelNavigation_NavigationRepeater_NavigationLink_7'))\n",
    "def loaded(driver):\n",
    "    return EC.element_to_be_clickable(\"HeaderPlaceHolder_ContentHeader_TopLevelNavigation_NavigationRepeater_NavigationLink_-3\")\n",
    "    username = selfdriver.find_element_by_id(\"HeaderPlaceHolder_ContentHeader_TopLevelNavigation_NavigationRepeater_NavigationLink_-3\")\n",
    "    \n",
    "wait = WebDriverWait(selfdriver, 20)\n",
    "selfdriver.get(login_url) \n",
    "wait.until(loaded1)\n"
   ]
  },
  {
   "cell_type": "code",
   "execution_count": null,
   "metadata": {},
   "outputs": [],
   "source": [
    "usernames = selfdriver.find_elements_by_id('username')\n",
    "passwords = selfdriver.find_elements_by_id('password')\n"
   ]
  },
  {
   "cell_type": "code",
   "execution_count": null,
   "metadata": {},
   "outputs": [],
   "source": [
    "#selfdriver.execute_script(\"arguments[0].style.opacity = '1';\", username)\n",
    "username[3].send_keys('abdulbaruwa')\n",
    "password[3].send_keys('Orunmila')"
   ]
  },
  {
   "cell_type": "code",
   "execution_count": null,
   "metadata": {},
   "outputs": [],
   "source": []
  },
  {
   "cell_type": "code",
   "execution_count": null,
   "metadata": {
    "collapsed": true
   },
   "outputs": [],
   "source": [
    "passwords = selfdriver.find_elements_by_id('password')\n"
   ]
  },
  {
   "cell_type": "code",
   "execution_count": null,
   "metadata": {
    "scrolled": true
   },
   "outputs": [],
   "source": [
    "passwords[3].send_keys('s')"
   ]
  },
  {
   "cell_type": "code",
   "execution_count": null,
   "metadata": {
    "collapsed": true
   },
   "outputs": [],
   "source": [
    "\n",
    "import urllib\n",
    "import urllib2\n",
    "import glob\n",
    "import sqlite3\n",
    "import os\n",
    "import cookielib\n",
    "import json\n",
    "import time\n",
    "import lxml.html\n",
    "\n",
    "\n",
    "LOGIN_EMAIL = 'example@webscraping.com'\n",
    "LOGIN_PASSWORD = 'example'\n",
    "LOGIN_URL = 'https://www.lta.org.uk/member/login/'\n",
    "\n",
    "\n",
    "def login_basic():\n",
    "    \"\"\"fails because not using formkey\n",
    "    \"\"\"\n",
    "    data = {'Username': LOGIN_EMAIL, 'Password': LOGIN_PASSWORD}\n",
    "    encoded_data = urllib.urlencode(data)\n",
    "    request = urllib2.Request(LOGIN_URL, encoded_data)\n",
    "    response = urllib2.urlopen(request)\n",
    "    #print response.geturl()"
   ]
  },
  {
   "cell_type": "code",
   "execution_count": null,
   "metadata": {
    "collapsed": true
   },
   "outputs": [],
   "source": []
  }
 ],
 "metadata": {
  "kernelspec": {
   "display_name": "Python 3",
   "language": "python",
   "name": "python3"
  },
  "language_info": {
   "codemirror_mode": {
    "name": "ipython",
    "version": 3
   },
   "file_extension": ".py",
   "mimetype": "text/x-python",
   "name": "python",
   "nbconvert_exporter": "python",
   "pygments_lexer": "ipython3",
   "version": "3.6.1"
  }
 },
 "nbformat": 4,
 "nbformat_minor": 2
}
