{
 "cells": [
  {
   "cell_type": "markdown",
   "metadata": {},
   "source": [
    " #### Gradient Descent minimizes the cost function iteratively\n",
    " To implement, we need to implement the graident of the cost function with regards to each model parameter $\\theta_j$\n",
    " Essentially we need to calculate how much the cost function changes for a small change in $\\theta_j$ (the _partial derivative_)\n",
    "The partial derivative is noted as: ${\\delta\\over{\\delta\\theta_j}} MSE(\\theta)$\n"
   ]
  },
  {
   "cell_type": "markdown",
   "metadata": {},
   "source": [
    "#### Partial derivatives of the cost function for parameter $\\theta$\n",
    "##### ${{\\delta\\over{\\delta\\theta_j}}MSE(\\theta)} = {{2 \\over m} \\sum^m_{i=1}{\\biggr( \\thetha^T . \\mathbf x^{(i)} \\biggr) } }$ "
   ]
  },
  {
   "cell_type": "code",
   "execution_count": null,
   "metadata": {
    "collapsed": true
   },
   "outputs": [],
   "source": []
  }
 ],
 "metadata": {
  "kernelspec": {
   "display_name": "Python 3",
   "language": "python",
   "name": "python3"
  },
  "language_info": {
   "codemirror_mode": {
    "name": "ipython",
    "version": 3
   },
   "file_extension": ".py",
   "mimetype": "text/x-python",
   "name": "python",
   "nbconvert_exporter": "python",
   "pygments_lexer": "ipython3",
   "version": "3.6.1"
  }
 },
 "nbformat": 4,
 "nbformat_minor": 2
}
